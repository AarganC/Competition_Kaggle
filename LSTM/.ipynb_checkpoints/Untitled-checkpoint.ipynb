{
 "cells": [
  {
   "cell_type": "code",
   "execution_count": 1,
   "metadata": {},
   "outputs": [
    {
     "name": "stderr",
     "output_type": "stream",
     "text": [
      "Using TensorFlow backend.\n",
      "/anaconda2/envs/tensorflowlatest/lib/python3.6/site-packages/skimage/viewer/utils/core.py:10: UserWarning: Recommended matplotlib backend is `Agg` for full skimage.viewer functionality.\n",
      "  warn(\"Recommended matplotlib backend is `Agg` for full \"\n"
     ]
    }
   ],
   "source": [
    "import keras\n",
    "import os\n",
    "import pandas as pd \n",
    "import matplotlib.pyplot as plt\n",
    "import numpy as np\n",
    "import tensorflow as tf\n",
    "import cv2 \n",
    "\n",
    "from IPython.display import Image, display\n",
    "from keras.datasets import cifar10\n",
    "from keras.layers import Input, Conv2D, BatchNormalization, Activation, Flatten, Dense, concatenate\n",
    "from keras.models import Model\n",
    "from keras.optimizers import Adam\n",
    "from datetime import datetime\n",
    "from keras.callbacks import TensorBoard\n",
    "from keras.layers import multiply, add\n",
    "from keras.preprocessing.image import ImageDataGenerator\n",
    "from sklearn.model_selection import train_test_split\n",
    "from skimage import io, viewer\n",
    "\n",
    "import keras\n",
    "import os\n",
    "import pandas as pd\n",
    "import numpy as np\n",
    "import tensorflow as tf\n",
    "import cv2\n",
    "import csv\n",
    "\n",
    "\n",
    "from sklearn.model_selection import train_test_split\n",
    "from keras.layers import Input\n",
    "from keras.models import Model\n",
    "from keras.optimizers import Adam\n",
    "from Template_LSTM import LSTM_TEMPLATE as LSTM\n",
    "from Template_ResNet import ResNet_TEMPLATE as ResNet\n",
    "from keras.callbacks import TensorBoard\n",
    "from datetime import datetime"
   ]
  },
  {
   "cell_type": "code",
   "execution_count": 2,
   "metadata": {},
   "outputs": [
    {
     "name": "stderr",
     "output_type": "stream",
     "text": [
      "/anaconda2/envs/tensorflowlatest/lib/python3.6/site-packages/sklearn/model_selection/_split.py:2179: FutureWarning: From version 0.21, test_size will always complement train_size unless both are specified.\n",
      "  FutureWarning)\n"
     ]
    },
    {
     "name": "stdout",
     "output_type": "stream",
     "text": [
      "(15750, 32, 32, 3)\n",
      "(1750, 32, 32, 3)\n",
      "Tensor(\"input_1:0\", shape=(?, 32, 32, 3), dtype=float32)\n"
     ]
    }
   ],
   "source": [
    "train_csv = pd.read_csv('../Data/train.csv')\n",
    "\n",
    "filenames = ['../Data/train/' + fname for fname in train_csv['id'].tolist()]\n",
    "labels = train_csv['has_cactus'].tolist()\n",
    "\n",
    "train=[]\n",
    "for file_name in filenames:\n",
    "    img=cv2.imread(file_name)\n",
    "    img=img.reshape(32*32*3,)\n",
    "    img=img/255\n",
    "    train.append(img)\n",
    "\n",
    "x_train, x_test, y_train, y_test = train_test_split(train,\n",
    "                                                    labels,\n",
    "                                                    train_size=0.9)\n",
    "\n",
    "num_train = len(x_train)\n",
    "num_val = len(x_test)\n",
    "\n",
    "x_train = np.array(x_train)\n",
    "x_train = np.reshape(x_train, (-1, 32, 32, 3))\n",
    "print(x_train.shape)\n",
    "\n",
    "x_test = np.array(x_test)\n",
    "x_test = np.reshape(x_test, (-1, 32, 32, 3))\n",
    "print(x_test.shape)\n",
    "\n",
    "y_train = keras.utils.to_categorical(y_train, 2)\n",
    "y_test = keras.utils.to_categorical(y_test, 2)\n",
    "\n",
    "inputs = Input(shape=(32, 32, 3))\n",
    "print(inputs)"
   ]
  },
  {
   "cell_type": "code",
   "execution_count": null,
   "metadata": {},
   "outputs": [],
   "source": []
  }
 ],
 "metadata": {
  "kernelspec": {
   "display_name": "Python 3",
   "language": "python",
   "name": "python3"
  },
  "language_info": {
   "codemirror_mode": {
    "name": "ipython",
    "version": 3
   },
   "file_extension": ".py",
   "mimetype": "text/x-python",
   "name": "python",
   "nbconvert_exporter": "python",
   "pygments_lexer": "ipython3",
   "version": "3.6.7"
  }
 },
 "nbformat": 4,
 "nbformat_minor": 2
}
